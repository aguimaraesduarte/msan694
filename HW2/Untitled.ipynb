{
 "cells": [
  {
   "cell_type": "code",
   "execution_count": 1,
   "metadata": {
    "collapsed": true
   },
   "outputs": [],
   "source": [
    "from pyspark import SparkContext, SparkConf\n",
    "from user_definition import *\n",
    "# Do not add any additional libraries."
   ]
  },
  {
   "cell_type": "code",
   "execution_count": 7,
   "metadata": {
    "collapsed": false
   },
   "outputs": [
    {
     "name": "stdout",
     "output_type": "stream",
     "text": [
      "([0, 100, 200, 300], [5, 4, 2])\n",
      "([1, 35, 69, 103], [8, 0, 1])\n"
     ]
    }
   ],
   "source": [
    "sc.appName = app_name\n",
    "lines = sc.textFile(input_file)\n",
    "nums = lines.flatMap(lambda l: [int(i) for i in l.split(\",\")])\n",
    "even_nums = nums.filter(lambda a: a%2 == 0)\n",
    "odd_nums = nums.filter(lambda a: a%2 == 1)\n",
    "print even_nums.histogram(hist_size)\n",
    "print odd_nums.histogram(hist_size)"
   ]
  },
  {
   "cell_type": "code",
   "execution_count": null,
   "metadata": {
    "collapsed": true
   },
   "outputs": [],
   "source": []
  }
 ],
 "metadata": {
  "kernelspec": {
   "display_name": "Python 2",
   "language": "python",
   "name": "python2"
  },
  "language_info": {
   "codemirror_mode": {
    "name": "ipython",
    "version": 2
   },
   "file_extension": ".py",
   "mimetype": "text/x-python",
   "name": "python",
   "nbconvert_exporter": "python",
   "pygments_lexer": "ipython2",
   "version": "2.7.12"
  }
 },
 "nbformat": 4,
 "nbformat_minor": 1
}
