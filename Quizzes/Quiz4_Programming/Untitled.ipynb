{
 "cells": [
  {
   "cell_type": "code",
   "execution_count": 10,
   "metadata": {
    "collapsed": false
   },
   "outputs": [
    {
     "name": "stdout",
     "output_type": "stream",
     "text": [
      "root\n",
      " |-- id: integer (nullable = true)\n",
      " |-- postId: integer (nullable = true)\n",
      " |-- time: timestamp (nullable = true)\n",
      " |-- voteType: integer (nullable = true)\n",
      "\n"
     ]
    }
   ],
   "source": [
    "from pyspark.sql.types import *\n",
    "\n",
    "schema = StructType([\n",
    "    StructField(\"id\", IntegerType(), False),\n",
    "    StructField(\"postId\", IntegerType(), False),\n",
    "    StructField(\"voteType\", IntegerType(), True),\n",
    "    StructField(\"time\", TimestampType(), True),\n",
    "])\n",
    "\n",
    "schema = StructType([\n",
    "    StructField(\"id\", IntegerType(), False),\n",
    "    StructField(\"postId\", IntegerType(), False),\n",
    "    StructField(\"time\", TimestampType(), True),\n",
    "    StructField(\"voteType\", IntegerType(), True)\n",
    "])\n",
    "\n",
    "file_name = \"italianVotes.csv\"\n",
    "\n",
    "italian_df = spark.read.csv(file_name, sep = \"~\", schema=schema)\n",
    "\n",
    "# print schema\n",
    "italian_df.printSchema()"
   ]
  },
  {
   "cell_type": "code",
   "execution_count": 12,
   "metadata": {
    "collapsed": false
   },
   "outputs": [
    {
     "name": "stdout",
     "output_type": "stream",
     "text": [
      "root\n",
      " |-- id: integer (nullable = true)\n",
      " |-- postId: integer (nullable = true)\n",
      " |-- time: timestamp (nullable = true)\n",
      " |-- voteType: integer (nullable = true)\n",
      "\n"
     ]
    }
   ],
   "source": [
    "spark.read.schema(schema).option(\"sep\", \"~\").csv(\"italianVotes.csv\").printSchema()"
   ]
  },
  {
   "cell_type": "code",
   "execution_count": null,
   "metadata": {
    "collapsed": true
   },
   "outputs": [],
   "source": []
  }
 ],
 "metadata": {
  "kernelspec": {
   "display_name": "Python 2",
   "language": "python",
   "name": "python2"
  },
  "language_info": {
   "codemirror_mode": {
    "name": "ipython",
    "version": 2
   },
   "file_extension": ".py",
   "mimetype": "text/x-python",
   "name": "python",
   "nbconvert_exporter": "python",
   "pygments_lexer": "ipython2",
   "version": "2.7.12"
  }
 },
 "nbformat": 4,
 "nbformat_minor": 1
}
